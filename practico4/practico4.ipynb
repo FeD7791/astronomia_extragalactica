{
 "cells": [
  {
   "cell_type": "code",
   "execution_count": 55,
   "metadata": {},
   "outputs": [],
   "source": [
    "import os,sys\n",
    "import pathlib\n",
    "sys.path.append(os.path.abspath('./practico4'))"
   ]
  },
  {
   "cell_type": "code",
   "execution_count": 56,
   "metadata": {},
   "outputs": [],
   "source": [
    "# Other imports\n",
    "import pandas as pd\n",
    "import numpy as np\n",
    "import matplotlib.pyplot as plt"
   ]
  },
  {
   "cell_type": "markdown",
   "metadata": {},
   "source": [
    "# $\\theta_{M} Calculation$\n",
    "\n",
    "The below function calculates $\\theta_{M}$ in the following way:\n",
    "\n",
    "- From Hubble law: $v = H_{0} D$ $\\iff$ $D = \\frac{v}{H_{0}} = \\frac{c z}{H_{0}}$\n",
    "- From angular distance separation: $tan(\\theta) = \\frac{\\theta_{M}}{D}$\n",
    "- Take account that: $cos({\\theta}) = cos({90 - \\delta_{1}} )cos({90 - \\delta_{2}}) + sen({90 - \\delta_{1}}) sen({90 - \\delta_{2}}) cos({\\alpha_{1}-\\alpha_{2}})$\n",
    "- $tan(\\theta) = \\sqrt{1-cos^2(\\theta)} / cos(\\theta)$\n",
    "$$\\theta_{M} = \\frac{c z}{H_{0}} \\frac{\\sqrt{1-cos^2(\\theta)}}{cos(\\theta)}$$\n",
    "- Then once you find $\\theta_{M}$ sort them ascending and take the first 10 values.\n",
    "- From these 10 values we are interested in the distance to the 10nth neighbor."
   ]
  },
  {
   "cell_type": "code",
   "execution_count": null,
   "metadata": {},
   "outputs": [],
   "source": [
    "def theta_calculator(declination,rigth_ascension,z,type):\n",
    "    \"\"\"\n",
    "    Parameters\n",
    "    ----------\n",
    "        declination: np.ndarray of declination values for each galaxy.\n",
    "        rigth_ascension: np.ndarray of ra values for each galaxy.\n",
    "        z : redshift\n",
    "        type : type of the galaxy\n",
    "\n",
    "    Returns\n",
    "    -------\n",
    "        Array of arrays of 10 elements of theta.\n",
    "\n",
    "    Notes\n",
    "    -----\n",
    "        For each galaxy we compute the distance by means of theta to the other\n",
    "        galaxies that surround it.\n",
    "\n",
    "        Calculation is this way: take a galaxy from the collection, and perform\n",
    "        t calculation with each other galaxy in the collection.\n",
    "\n",
    "        Take te first 10 values (first sort ascending), not counting the 0\n",
    "        value which is the distance to itself.\n",
    "    \"\"\"\n",
    "    # Speed of light [km]/[s]\n",
    "    c = 300000\n",
    "    # Work with numpy arrays.\n",
    "    declination = np.array(declination)\n",
    "    rigth_ascension = np.array(rigth_ascension)*np.pi/180\n",
    "    # First transform declination according to the Absolute equatorial system.\n",
    "    declination = 90 - declination\n",
    "    declination = declination*np.pi/180\n",
    "\n",
    "\n",
    "    # GET D\n",
    "    big_d = c*z/70 # H0 = 70\n",
    "    theta = []\n",
    "    ty = []\n",
    "    # all vs all\n",
    "    for dec_ra in zip(declination,rigth_ascension,type):\n",
    "        cos_t = np.cos(dec_ra[0])*np.cos(declination) + np.sin(dec_ra[0])*np.sin(declination)*np.cos(dec_ra[1]-rigth_ascension)\n",
    "        tan_t = np.sqrt(1-cos_t**2)/cos_t\n",
    "        t = big_d*tan_t\n",
    "\n",
    "        t = np.sort(t)[1:11]\n",
    "        t = t[-1]\n",
    "        theta.append(t)\n",
    "        ty.append(dec_ra[2])\n",
    "    theta = np.array(theta)\n",
    "    ty = np.array(ty)\n",
    "    return theta,ty"
   ]
  },
  {
   "cell_type": "markdown",
   "metadata": {},
   "source": [
    "# Datasets\n",
    "- *galaxias.dat* Has basically only information about the ra : *right ascencion* and dec : *declination*. of galaxies and also its type in ty column. Value cls refers to value cls related to the *centros.dat* dataset.\n",
    "\n",
    "-  *centros.dat* Has information about: Location of each center: ra,dec and z. Also has information about number of members. cls value is for mapping values of galaxies from *galaxias.dat* to the centers in *centros.dat*\n"
   ]
  },
  {
   "cell_type": "code",
   "execution_count": 58,
   "metadata": {},
   "outputs": [],
   "source": [
    "gal = pd.read_csv(\"practico4/galaxias.dat\",delim_whitespace=True,header=0)\n",
    "centers = pd.read_csv(\"practico4/centros.dat\",delim_whitespace=True,header=0)"
   ]
  },
  {
   "cell_type": "code",
   "execution_count": 59,
   "metadata": {},
   "outputs": [],
   "source": [
    "# For centers, get the cls and z values\n",
    "cls = np.array(pd.unique(centers[\"cls,\"]))\n",
    "redshift = np.array(centers[\"redshift_cls,\"])\n",
    "ra_cen = np.array(centers[\"ra_csl,\"])\n",
    "dec_cen = np.array(centers[\"dec_cls\"])\n"
   ]
  },
  {
   "cell_type": "markdown",
   "metadata": {},
   "source": [
    "In the code below we are goint to get two arrays:\n",
    "- $d = \\theta_{10}$ : array of distance of the 10nth neighbor.\n",
    "- tys : type of galaxy of the thenth neighbor."
   ]
  },
  {
   "cell_type": "code",
   "execution_count": 60,
   "metadata": {},
   "outputs": [
    {
     "name": "stderr",
     "output_type": "stream",
     "text": [
      "/tmp/ipykernel_67713/2295650248.py:42: RuntimeWarning: invalid value encountered in sqrt\n",
      "  tan_t = np.sqrt(1-cos_t**2)/cos_t\n"
     ]
    }
   ],
   "source": [
    "d = np.array([])\n",
    "tys = np.array([])\n",
    "for c in zip(cls,redshift):\n",
    "    # get ra,dec from galaxies in gal dataframe that belong to center based on cls.\n",
    "    ra = np.array(gal[gal[\"cls\"]==c[0]].loc[:,\"ra\"])\n",
    "    dec = np.array(gal[gal[\"cls\"]==c[0]].loc[:,\"dec\"])\n",
    "    type = np.array(gal[gal[\"cls\"]==c[0]].loc[:,\"ty\"])\n",
    "    # using ra,dec and redshift calculate theta using theta_calculator function.\n",
    "    theta,ty = theta_calculator(dec,ra,c[1],type)\n",
    "    # distances.append(t)\n",
    "    d = np.concatenate((d,theta),axis=None)\n",
    "    tys = np.concatenate((tys,ty),axis=None)\n"
   ]
  },
  {
   "cell_type": "markdown",
   "metadata": {},
   "source": [
    "From the above code we will get an array of $\\theta_{M}$ values. The next step is to calculate the $A_{10}$ value, and then the density, ant it's done in the following way:\n",
    "\n",
    "- $A_{10} = \\pi \\theta^2_{10}[Mpc]$\n",
    "- $\\rho = \\frac{10}{A_{10}}$"
   ]
  },
  {
   "cell_type": "code",
   "execution_count": 61,
   "metadata": {},
   "outputs": [],
   "source": [
    "\n",
    "a10 = np.pi*d**2\n",
    "rho = np.log10(10/a10)"
   ]
  },
  {
   "cell_type": "code",
   "execution_count": 79,
   "metadata": {},
   "outputs": [
    {
     "data": {
      "text/plain": [
       "count    5725.000000\n",
       "mean        1.044704\n",
       "std         0.559824\n",
       "min        -0.651839\n",
       "25%         0.655598\n",
       "50%         1.050132\n",
       "75%         1.438348\n",
       "max         2.783419\n",
       "dtype: float64"
      ]
     },
     "execution_count": 79,
     "metadata": {},
     "output_type": "execute_result"
    }
   ],
   "source": [
    "df_rho = pd.Series(rho)\n",
    "df_rho.describe()"
   ]
  },
  {
   "cell_type": "code",
   "execution_count": 77,
   "metadata": {},
   "outputs": [
    {
     "data": {
      "image/png": "[encoded data removed]",
      "text/plain": [
       "<Figure size 700x700 with 1 Axes>"
      ]
     },
     "metadata": {},
     "output_type": "display_data"
    }
   ],
   "source": [
    "import seaborn as sns\n",
    "fig,ax = plt.subplots(1,1,figsize=(7,7))\n",
    "sns.histplot(rho,bins=10,ax=ax)\n",
    "ax.set_xlabel(r\"$log_{10}(\\Sigma)$\")\n",
    "plt.savefig(\"sigma_dist.jpg\")"
   ]
  },
  {
   "cell_type": "code",
   "execution_count": 63,
   "metadata": {},
   "outputs": [],
   "source": [
    "# Calculemos primero el histrograma:\n",
    "counts,bins = np.histogram(rho,bins=10)\n",
    "mids = (bins[1:]+bins[:-1])/2\n",
    "# Build 2d array\n",
    "rho_type = np.column_stack((rho,tys))\n",
    "\n",
    "\n",
    "\n"
   ]
  },
  {
   "cell_type": "code",
   "execution_count": 64,
   "metadata": {},
   "outputs": [],
   "source": [
    "def bin_type_splitter(arr, bins):\n",
    "    # arr[0] = rho ; arr[1] = type\n",
    "    s = [\n",
    "        (len(arr[:,0][np.where((arr[:,0]<b[1])&(arr[:,0]>b[0])&(arr[:,1]==1))]),\n",
    "         len(arr[:,0][np.where((arr[:,0]<b[1])&(arr[:,0]>b[0])&(arr[:,1]==2))]),\n",
    "         len(arr[:,0][np.where((arr[:,0]<b[1])&(arr[:,0]>b[0])&(arr[:,1]==3))]),\n",
    "         len(arr[:,0][np.where((arr[:,0]<b[1])&(arr[:,0]>b[0])&(arr[:,1]==4))]),\n",
    "        ) for b in zip(bins[:-1],bins[1:])\n",
    "    ]\n",
    "    return s"
   ]
  },
  {
   "cell_type": "code",
   "execution_count": 65,
   "metadata": {},
   "outputs": [],
   "source": [
    "splits = np.array(bin_type_splitter(rho_type,bins))\n",
    "# np.sum(splits,axis=1) = counts (except for some type 4 galaxies)\n",
    "s1 = np.array(splits[:,0])/counts\n",
    "s2 = np.array(splits[:,1])/counts\n",
    "s3 = np.array(splits[:,2])/counts\n",
    "s4 = np.array(splits[:,3])/counts\n"
   ]
  },
  {
   "cell_type": "code",
   "execution_count": 86,
   "metadata": {},
   "outputs": [
    {
     "name": "stdout",
     "output_type": "stream",
     "text": [
      "56.52173913043478 12.5\n"
     ]
    }
   ],
   "source": [
    "print(s3[0]*100,s3[-1]*100)"
   ]
  },
  {
   "cell_type": "code",
   "execution_count": 82,
   "metadata": {},
   "outputs": [
    {
     "data": {
      "image/png": "[encoded data removed]",
      "text/plain": [
       "<Figure size 500x500 with 1 Axes>"
      ]
     },
     "metadata": {},
     "output_type": "display_data"
    }
   ],
   "source": [
    "fig,ax = plt.subplots(1,1,figsize=(5,5))\n",
    "ax.plot(mids,s1,\"r--o\",markersize=2.5, label=\"Elipticas\")\n",
    "ax.plot(mids,s2,\"y--o\",markersize=2.5, label=\"Lenticulares\")\n",
    "ax.plot(mids,s3,\"b--o\",markersize=2.5, label=\"Espirales\")\n",
    "# ax.plot(mids,s4,\"c--o\",markersize=2.5, label=\"s4\")\n",
    "ax.set_ylim(0,1)\n",
    "ax.set_xlabel(r\"$log_{10}(\\Sigma)$\")\n",
    "plt.legend()\n",
    "plt.savefig(\"dens_morf_dist.jpg\")\n"
   ]
  }
 ],
 "metadata": {
  "kernelspec": {
   "display_name": "vfproject",
   "language": "python",
   "name": "python3"
  },
  "language_info": {
   "codemirror_mode": {
    "name": "ipython",
    "version": 3
   },
   "file_extension": ".py",
   "mimetype": "text/x-python",
   "name": "python",
   "nbconvert_exporter": "python",
   "pygments_lexer": "ipython3",
   "version": "3.12.0"
  }
 },
 "nbformat": 4,
 "nbformat_minor": 2
}
