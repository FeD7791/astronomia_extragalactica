{
 "cells": [
  {
   "cell_type": "code",
   "execution_count": null,
   "metadata": {},
   "outputs": [],
   "source": [
    "import os, pathlib, sys\n",
    "sys.path.append(os.path.abspath(\"./\"))"
   ]
  },
  {
   "cell_type": "markdown",
   "metadata": {},
   "source": [
    "## Introduccion\n",
    "\n",
    "- El universo se expande y como consecuencia las distancias entre los objetos se agrandan.\n",
    "\n",
    "- Definimos el redshift cosmologico como: $$1+z = \\frac{R_{0}}{R(t)}$$ , donde $R_{0} = R(t_{0})$ es el factor de escala cuando se observa la señal, mientras que $R(t)$ es el factor de escala cuando se emite la señal.\n",
    "\n",
    "- Podemos definir la distancia de Hubble como: $$D_{H}(z) = \\frac{c}{H(z)}$$ , donde $H(z) = \\frac{\\dot{R(t)}}{R(t)}$ es el factor de expansion de Hubble.\n",
    "\n",
    "- La distancia comovil a lo largo de la linea de la visual (LOS) se define como: $$\\chi(z) \\int_{0}^{z}{D_{H}(z) dz}$$\n",
    "\n",
    "- Tambien suele escribirse esta distancia comovil como: $D_{c}(z) = \\chi(z)$\n",
    "\n",
    "- Tenemos la distancia comovil transversal, denotada usualmente como $D_{M}(z)$ la cual nos dice a que distancia estan dos objetos a mismo redshift. Su valor depende del tipo de universo en el que vivamos, concretamente de su geometria:\n",
    "\n",
    "![Alt text](images/teorico1.png)\n",
    "\n",
    "- Para el caso de un universo plano, como puede verse mas arriba, esta distancia coincidira con la distancia comovil.\n",
    "\n",
    "- A partir de la distancia comovil transversal entonces podemos definir dos distancias mas, la primera es la distancia diametro angular: $$d_{A}(z)=\\frac{D_{M}(z)}{1+z}$$\n",
    "\n",
    "- Distancia Luminosidad: $$d_{L}(z) = D_{M}(z) (1+z)$$"
   ]
  }
 ],
 "metadata": {
  "language_info": {
   "name": "python"
  }
 },
 "nbformat": 4,
 "nbformat_minor": 2
}
